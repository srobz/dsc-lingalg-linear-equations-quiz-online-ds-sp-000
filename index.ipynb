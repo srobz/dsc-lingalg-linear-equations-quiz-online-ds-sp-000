{
 "cells": [
  {
   "cell_type": "markdown",
   "metadata": {},
   "source": [
    "# Systems of Linear Equations - Lab\n",
    "\n",
    "## Introduction\n",
    "The following scenarios present problems that can be solved as a system of equations while performing substitutions and eliminations as you saw in the previous lesson.\n",
    "\n",
    "* Solve these problems by hand, showing all the steps to work out the unknown variable values \n",
    "* Verify your answers by showing the calculated values satisfy all equations\n",
    "\n",
    "## Objectives\n",
    "\n",
    "In this lab you will: \n",
    "\n",
    "- Solve a system of equations using elimination and substitution\n",
    "\n",
    "## Exercise 1\n",
    "Jane paid 12 dollars for 4 cups of coffee and 4 cups of tea. 3 cups of coffee cost as much as 2 cups of tea. What would be the total cost of 5 cups of coffee and 5 cups of tea?\n",
    "\n",
    "### Solution\n",
    "\n",
    "> Let $x$ be the unit price of coffee and $y$ be the unit price of tea"
   ]
  },
  {
   "cell_type": "code",
   "execution_count": 2,
   "metadata": {},
   "outputs": [],
   "source": [
    "# Your solution here\n",
    "#$12 = 4x + 4y\n",
    "# 3x = 2y\n",
    "# $12 = 4x + 3x + 3x\n",
    "# $12 = 10x\n",
    "# x = 1.2\n",
    "# 3(1.2) = 2y\n",
    "# 3.6 = 2y\n",
    "# y = 1.8\n",
    "# 5(1.2) + 5(1.8) = 15\n",
    "# Answer: 5 cups of tea and 5 cups of coffee = 15 dollars"
   ]
  },
  {
   "cell_type": "markdown",
   "metadata": {},
   "source": [
    "## Exercise 2\n",
    "\n",
    "Jim has more money than Bob. If Jim gave Bob 20 dollars, they would have the same amount. If Bob gave Jim 22 dollars, however, Jim would then have twice as much as Bob. \n",
    "\n",
    "How much does each one actually have?\n",
    "\n",
    "### Solution\n",
    "> Let x be the amount of money that Jim has and y be the amount that Bob has "
   ]
  },
  {
   "cell_type": "code",
   "execution_count": 3,
   "metadata": {},
   "outputs": [
    {
     "data": {
      "text/plain": [
       "'\\nJim = x\\nBob = y\\n\\n1. Jim has more money than Bob.\\nx > y\\n\\n2. If Jim gave Bob 20 dollars, they would have the same amount\\n(x - 20) = (y + 20)\\n\\n3. If Bob gave Jim 22 dollars, Jim would have twice as much as Bob.\\n(x + 22) = 2(y - 22)\\n\\n___\\nx = y + 40\\n\\n(y + 40 + 22) = 2(y - 22)\\ny + 62 = 2y - 44\\ny = 106\\n\\n106 + 40 = 146\\nx = 146\\n'"
      ]
     },
     "execution_count": 3,
     "metadata": {},
     "output_type": "execute_result"
    }
   ],
   "source": [
    "# Your solution here \n",
    "\"\"\"\n",
    "Jim = x\n",
    "Bob = y\n",
    "\n",
    "1. Jim has more money than Bob.\n",
    "x > y\n",
    "\n",
    "2. If Jim gave Bob 20 dollars, they would have the same amount\n",
    "(x - 20) = (y + 20)\n",
    "\n",
    "3. If Bob gave Jim 22 dollars, Jim would have twice as much as Bob.\n",
    "(x + 22) = 2(y - 22)\n",
    "\n",
    "___\n",
    "x = y + 40\n",
    "\n",
    "(y + 40 + 22) = 2(y - 22)\n",
    "y + 62 = 2y - 44\n",
    "y = 106\n",
    "\n",
    "106 + 40 = 146\n",
    "x = 146\n",
    "\"\"\"\n",
    "# Answer:\n",
    "# y = 106 (Bob's amount)\n",
    "# x = 146 (Jim's amount)"
   ]
  },
  {
   "cell_type": "markdown",
   "metadata": {},
   "source": [
    "## Exercise 3\n",
    "\n",
    "Mia has 30 coins, consisting of quarters (25 cents) and dimes (10 cents), which totals to the amount 5.70 dollars.  \n",
    "How many of each does she have?\n",
    "\n",
    "### Solution\n",
    "\n",
    "> Let x be the number of quarters and y be the number of dimes "
   ]
  },
  {
   "cell_type": "code",
   "execution_count": null,
   "metadata": {},
   "outputs": [],
   "source": [
    "# Your solution here \n",
    "'''\n",
    "Mia = 30 coins = $5.70\n",
    "x = quarters\n",
    "y = dimes\n",
    "\n",
    "x + y = 30\n",
    "\n",
    "25x + 10y = 570\n",
    "\n",
    "y = 30 - x\n",
    "\n",
    "25x + 10(30 - x) = 570\n",
    "25x + 300 - 10x = 570\n",
    "15x + 300 = 570\n",
    "15x = 270\n",
    "x = 18\n",
    "y = 12\n",
    "\n",
    "'''\n",
    "# Answer:\n",
    "# x = 18 quarters\n",
    "# y = 12 dimes"
   ]
  },
  {
   "cell_type": "markdown",
   "metadata": {},
   "source": [
    "## Level up (Optional)\n",
    "For more practice with linear equations, visit the following links for more complex equations:\n",
    "\n",
    "* https://www.transum.org/software/SW/Starter_of_the_day/Students/Simultaneous_Equations.asp?Level=6\n",
    "* https://www.transum.org/software/SW/Starter_of_the_day/Students/Simultaneous_Equations.asp?Level=7\n",
    "\n",
    "## Summary\n",
    "\n",
    "In this lesson, you learned how to solve linear equations by hand to find the coefficient values. You'll now move forward to have a deeper look into vectors and matrices and how Python and NumPy can help us solve more complex equations in an analytical context. "
   ]
  }
 ],
 "metadata": {
  "kernelspec": {
   "display_name": "learn-env",
   "language": "python",
   "name": "learn-env"
  },
  "language_info": {
   "codemirror_mode": {
    "name": "ipython",
    "version": 3
   },
   "file_extension": ".py",
   "mimetype": "text/x-python",
   "name": "python",
   "nbconvert_exporter": "python",
   "pygments_lexer": "ipython3",
   "version": "3.8.3"
  },
  "toc": {
   "base_numbering": 1,
   "nav_menu": {},
   "number_sections": false,
   "sideBar": true,
   "skip_h1_title": false,
   "title_cell": "Table of Contents",
   "title_sidebar": "Contents",
   "toc_cell": false,
   "toc_position": {},
   "toc_section_display": true,
   "toc_window_display": false
  }
 },
 "nbformat": 4,
 "nbformat_minor": 2
}
